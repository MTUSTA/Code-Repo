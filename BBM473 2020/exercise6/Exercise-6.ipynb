{
 "cells": [
  {
   "cell_type": "markdown",
   "metadata": {
    "slideshow": {
     "slide_type": "slide"
    }
   },
   "source": [
    "**BBM473 Database Laboratory (Fall 2020)**\n",
    "\n",
    "\n",
    "Exercise 6: Indexes\n",
    "===========\n",
    "\n",
    "Let's play with the [consumer complaint database](https://catalog.data.gov/dataset/consumer-complaint-database) from data.gov"
   ]
  },
  {
   "cell_type": "code",
   "execution_count": 3,
   "metadata": {},
   "outputs": [
    {
     "name": "stdout",
     "output_type": "stream",
     "text": [
      "The sql extension is already loaded. To reload it, use:\n",
      "  %reload_ext sql\n",
      " * sqlite:///complaint.db\n",
      "Done.\n",
      " * sqlite:///complaint.db\n",
      "Done.\n"
     ]
    },
    {
     "data": {
      "text/plain": [
       "[]"
      ]
     },
     "execution_count": 3,
     "metadata": {},
     "output_type": "execute_result"
    }
   ],
   "source": [
    "%load_ext sql\n",
    "%sql sqlite:///complaint.db\n",
    "import time\n",
    "%sql drop index if exists state_product_index;\n",
    "%sql analyze"
   ]
  },
  {
   "cell_type": "code",
   "execution_count": null,
   "metadata": {},
   "outputs": [],
   "source": []
  },
  {
   "cell_type": "code",
   "execution_count": null,
   "metadata": {},
   "outputs": [],
   "source": []
  },
  {
   "cell_type": "code",
   "execution_count": null,
   "metadata": {},
   "outputs": [],
   "source": []
  },
  {
   "cell_type": "code",
   "execution_count": null,
   "metadata": {},
   "outputs": [],
   "source": []
  },
  {
   "cell_type": "code",
   "execution_count": null,
   "metadata": {},
   "outputs": [],
   "source": []
  },
  {
   "cell_type": "code",
   "execution_count": null,
   "metadata": {},
   "outputs": [],
   "source": []
  },
  {
   "cell_type": "code",
   "execution_count": null,
   "metadata": {},
   "outputs": [],
   "source": []
  },
  {
   "cell_type": "code",
   "execution_count": null,
   "metadata": {},
   "outputs": [],
   "source": []
  },
  {
   "cell_type": "code",
   "execution_count": 4,
   "metadata": {
    "slideshow": {
     "slide_type": "slide"
    }
   },
   "outputs": [
    {
     "name": "stdout",
     "output_type": "stream",
     "text": [
      " * sqlite:///complaint.db\n",
      "Done.\n"
     ]
    },
    {
     "data": {
      "text/html": [
       "<table>\n",
       "    <tr>\n",
       "        <th>count(*)</th>\n",
       "    </tr>\n",
       "    <tr>\n",
       "        <td>79468</td>\n",
       "    </tr>\n",
       "</table>"
      ],
      "text/plain": [
       "[(79468,)]"
      ]
     },
     "execution_count": 4,
     "metadata": {},
     "output_type": "execute_result"
    }
   ],
   "source": [
    "%sql select count(*) from complaints;"
   ]
  },
  {
   "cell_type": "code",
   "execution_count": null,
   "metadata": {},
   "outputs": [],
   "source": []
  },
  {
   "cell_type": "code",
   "execution_count": 6,
   "metadata": {
    "slideshow": {
     "slide_type": "slide"
    }
   },
   "outputs": [
    {
     "name": "stdout",
     "output_type": "stream",
     "text": [
      " * sqlite:///complaint.db\n",
      "Done.\n"
     ]
    },
    {
     "data": {
      "text/html": [
       "<table>\n",
       "    <tr>\n",
       "        <th>Date_received</th>\n",
       "        <th>Product</th>\n",
       "        <th>Subproduct</th>\n",
       "        <th>Issue</th>\n",
       "        <th>Subissue</th>\n",
       "        <th>Consumer_narrative</th>\n",
       "        <th>Company_public_response</th>\n",
       "        <th>Company</th>\n",
       "        <th>State</th>\n",
       "        <th>ZIP_code</th>\n",
       "        <th>Submitted_via</th>\n",
       "        <th>Date_sent_to_company</th>\n",
       "        <th>Company_response</th>\n",
       "        <th>Timely_response</th>\n",
       "        <th>Consumer_disputed</th>\n",
       "        <th>Complaint_ID</th>\n",
       "    </tr>\n",
       "    <tr>\n",
       "        <td>12/30/2015</td>\n",
       "        <td>Mortgage</td>\n",
       "        <td>Other mortgage</td>\n",
       "        <td>Loan servicing, payments, escrow account</td>\n",
       "        <td></td>\n",
       "        <td></td>\n",
       "        <td>Company chooses not to provide a public response</td>\n",
       "        <td>U.S. Bancorp</td>\n",
       "        <td>TN</td>\n",
       "        <td>38138</td>\n",
       "        <td></td>\n",
       "        <td>N/A</td>\n",
       "        <td>Referral</td>\n",
       "        <td>01/05/2016</td>\n",
       "        <td>Closed with explanation</td>\n",
       "        <td>Yes</td>\n",
       "    </tr>\n",
       "    <tr>\n",
       "        <td>12/12/2015</td>\n",
       "        <td>Mortgage</td>\n",
       "        <td>Other mortgage</td>\n",
       "        <td>Loan modification,collection,foreclosure</td>\n",
       "        <td></td>\n",
       "        <td></td>\n",
       "        <td>Company chooses not to provide a public response</td>\n",
       "        <td>Citibank</td>\n",
       "        <td>NY</td>\n",
       "        <td>13021</td>\n",
       "        <td></td>\n",
       "        <td>N/A</td>\n",
       "        <td>Referral</td>\n",
       "        <td>12/23/2015</td>\n",
       "        <td>Closed with explanation</td>\n",
       "        <td>Yes</td>\n",
       "    </tr>\n",
       "    <tr>\n",
       "        <td>12/02/2015</td>\n",
       "        <td>Mortgage</td>\n",
       "        <td>Other mortgage</td>\n",
       "        <td>Loan modification,collection,foreclosure</td>\n",
       "        <td></td>\n",
       "        <td></td>\n",
       "        <td></td>\n",
       "        <td>Nationstar Mortgage</td>\n",
       "        <td>MI</td>\n",
       "        <td>49102</td>\n",
       "        <td></td>\n",
       "        <td>N/A</td>\n",
       "        <td>Referral</td>\n",
       "        <td>12/17/2015</td>\n",
       "        <td>Closed with explanation</td>\n",
       "        <td>Yes</td>\n",
       "    </tr>\n",
       "    <tr>\n",
       "        <td>12/02/2015</td>\n",
       "        <td>Bank account or service</td>\n",
       "        <td>Other bank product/service</td>\n",
       "        <td>Account opening, closing, or management</td>\n",
       "        <td></td>\n",
       "        <td></td>\n",
       "        <td>Company chooses not to provide a public response</td>\n",
       "        <td>Wells Fargo &amp; Company</td>\n",
       "        <td></td>\n",
       "        <td></td>\n",
       "        <td></td>\n",
       "        <td>N/A</td>\n",
       "        <td>Referral</td>\n",
       "        <td>12/07/2015</td>\n",
       "        <td>Closed with explanation</td>\n",
       "        <td>Yes</td>\n",
       "    </tr>\n",
       "    <tr>\n",
       "        <td>12/22/2015</td>\n",
       "        <td>Mortgage</td>\n",
       "        <td>Conventional fixed mortgage</td>\n",
       "        <td>Loan servicing, payments, escrow account</td>\n",
       "        <td></td>\n",
       "        <td></td>\n",
       "        <td></td>\n",
       "        <td>Nationstar Mortgage</td>\n",
       "        <td>FL</td>\n",
       "        <td>33484</td>\n",
       "        <td>Older American</td>\n",
       "        <td>Consent not provided</td>\n",
       "        <td>Web</td>\n",
       "        <td>01/06/2016</td>\n",
       "        <td>Closed with explanation</td>\n",
       "        <td>Yes</td>\n",
       "    </tr>\n",
       "    <tr>\n",
       "        <td>12/22/2015</td>\n",
       "        <td>Mortgage</td>\n",
       "        <td>Conventional fixed mortgage</td>\n",
       "        <td>Loan servicing, payments, escrow account</td>\n",
       "        <td></td>\n",
       "        <td></td>\n",
       "        <td>Company chooses not to provide a public response</td>\n",
       "        <td>Bank of America</td>\n",
       "        <td>OH</td>\n",
       "        <td>45044</td>\n",
       "        <td></td>\n",
       "        <td>Consent not provided</td>\n",
       "        <td>Web</td>\n",
       "        <td>12/22/2015</td>\n",
       "        <td>Closed with explanation</td>\n",
       "        <td>Yes</td>\n",
       "    </tr>\n",
       "    <tr>\n",
       "        <td>12/02/2015</td>\n",
       "        <td>Debt collection</td>\n",
       "        <td>Other (i.e. phone, health club, etc.)</td>\n",
       "        <td>Cont&#x27;d attempts collect debt not owed</td>\n",
       "        <td>Debt is not mine</td>\n",
       "        <td></td>\n",
       "        <td>Company chooses not to provide a public response</td>\n",
       "        <td>Solomon and Solomon, P.C.</td>\n",
       "        <td>NY</td>\n",
       "        <td>14513</td>\n",
       "        <td></td>\n",
       "        <td>Consent not provided</td>\n",
       "        <td>Web</td>\n",
       "        <td>12/02/2015</td>\n",
       "        <td>Closed with non-monetary relief</td>\n",
       "        <td>Yes</td>\n",
       "    </tr>\n",
       "    <tr>\n",
       "        <td>01/05/2016</td>\n",
       "        <td>Mortgage</td>\n",
       "        <td>Conventional fixed mortgage</td>\n",
       "        <td>Loan servicing, payments, escrow account</td>\n",
       "        <td></td>\n",
       "        <td></td>\n",
       "        <td></td>\n",
       "        <td>Nationwide Biweekly Administration, Inc</td>\n",
       "        <td>AK</td>\n",
       "        <td>99502</td>\n",
       "        <td></td>\n",
       "        <td>Consent not provided</td>\n",
       "        <td>Web</td>\n",
       "        <td>01/05/2016</td>\n",
       "        <td>Closed with explanation</td>\n",
       "        <td>No</td>\n",
       "    </tr>\n",
       "    <tr>\n",
       "        <td>12/02/2015</td>\n",
       "        <td>Debt collection</td>\n",
       "        <td>Payday loan</td>\n",
       "        <td>Taking/threatening an illegal action</td>\n",
       "        <td>Threatened arrest/jail if do not pay</td>\n",
       "        <td>I received a call from XXXX XXXX XXXX XXXX, for an unpaid payday loan. He told me that I had been contacted several times for the unpaid debt, e-mail, and mail. I have received no e-mail, or mail concerning the debt. He told me that the parent company is going to press charges, he had my social security number. He also said that he would be contacting my places of work, and most likely will have to pay the court restitution of over five grand. I might even be put in jail. He would not give me a copy of the so called &quot; affidavit &#x27;&#x27;. He told me that I would have to get a criminal attorney</td>\n",
       "        <td> because instead of suing me</td>\n",
       "        <td> the &quot;&quot; company &#x27;&#x27; is going to press charges for fraud and theft. He also yelled at me for &quot;&quot; crying &#x27;&#x27; /being emotional when he first called me. He called me 3 times in the past month. He called from a New York number : XXXX. His name is XXXX. He also said that he would be investigating me further</td>\n",
       "        <td> and contacting my employers as well., Company believes it acted appropriately as authorized by contract or law,GVA Holdings</td>\n",
       "        <td> LLC&quot;</td>\n",
       "        <td>MI</td>\n",
       "        <td>486XX</td>\n",
       "        <td></td>\n",
       "        <td>Consent provided</td>\n",
       "        <td>Web</td>\n",
       "        <td>12/02/2015</td>\n",
       "    </tr>\n",
       "    <tr>\n",
       "        <td>01/05/2016</td>\n",
       "        <td>Debt collection</td>\n",
       "        <td>Credit card</td>\n",
       "        <td>False statements or representation</td>\n",
       "        <td>Attempted to collect wrong amount</td>\n",
       "        <td>I received a letter by mail on XXXX XXXX 2015, stating that I owed Discover XXXX. I do n&#x27;t know why it went into collections, since I was making payments to Discover. After I read the letter saying that my payments were to be XXXX dollars a month I concurred. I started making payments immediately. I paid XXXX dollars in XXXX, XXXX in XXXX, XXXX in XXXX, XXXX in XXXX and XXXX in XXXX. Then I get a call from XXXX stating that my bank account had insufficient funds, which is not true I replied. They said that they spoke with the banks representitive and when I asked them if they have a confirmation number from that bank they said yes and read a false confirmation number because the number was from my receipt of payment that I had made to them. We hung up and I called my bank and asked them if they got a call from XXXX and they said that there was no record of them in the system for calling. I told the bank what the law firm said and they said that I do have sufficient funds for the payments I made, but that there is no record of a charge on my account. When I tried calling the law firm back they did n&#x27;t pick up the phone and I did call several times that day. I then filed a complaint with the FTC. Then i received XXXX letters from XXXX stating to pay the full balance of XXXX. So then I thougt oh they took out at least XXXX from my account. But when i checked they did not. So I went to the website &quot; XXXX &#x27;&#x27; to make a payment</td>\n",
       "        <td> but the website gave me a different amount XXXX I need help. I want to pay my debts but this law firm is making it very difficult as they are lying to me. I am a very honest person and respect the law.</td>\n",
       "        <td>None</td>\n",
       "        <td>None</td>\n",
       "        <td>None</td>\n",
       "        <td>None</td>\n",
       "        <td>None</td>\n",
       "        <td>None</td>\n",
       "        <td>None</td>\n",
       "        <td>None</td>\n",
       "        <td>12/02/2015</td>\n",
       "    </tr>\n",
       "</table>"
      ],
      "text/plain": [
       "[('12/30/2015', 'Mortgage', 'Other mortgage', 'Loan servicing, payments, escrow account', '', '', 'Company chooses not to provide a public response', 'U.S. Bancorp', 'TN', '38138', '', 'N/A', 'Referral', '01/05/2016', 'Closed with explanation', 'Yes'),\n",
       " ('12/12/2015', 'Mortgage', 'Other mortgage', 'Loan modification,collection,foreclosure', '', '', 'Company chooses not to provide a public response', 'Citibank', 'NY', '13021', '', 'N/A', 'Referral', '12/23/2015', 'Closed with explanation', 'Yes'),\n",
       " ('12/02/2015', 'Mortgage', 'Other mortgage', 'Loan modification,collection,foreclosure', '', '', '', 'Nationstar Mortgage', 'MI', '49102', '', 'N/A', 'Referral', '12/17/2015', 'Closed with explanation', 'Yes'),\n",
       " ('12/02/2015', 'Bank account or service', 'Other bank product/service', 'Account opening, closing, or management', '', '', 'Company chooses not to provide a public response', 'Wells Fargo & Company', '', '', '', 'N/A', 'Referral', '12/07/2015', 'Closed with explanation', 'Yes'),\n",
       " ('12/22/2015', 'Mortgage', 'Conventional fixed mortgage', 'Loan servicing, payments, escrow account', '', '', '', 'Nationstar Mortgage', 'FL', '33484', 'Older American', 'Consent not provided', 'Web', '01/06/2016', 'Closed with explanation', 'Yes'),\n",
       " ('12/22/2015', 'Mortgage', 'Conventional fixed mortgage', 'Loan servicing, payments, escrow account', '', '', 'Company chooses not to provide a public response', 'Bank of America', 'OH', '45044', '', 'Consent not provided', 'Web', '12/22/2015', 'Closed with explanation', 'Yes'),\n",
       " ('12/02/2015', 'Debt collection', 'Other (i.e. phone, health club, etc.)', \"Cont'd attempts collect debt not owed\", 'Debt is not mine', '', 'Company chooses not to provide a public response', 'Solomon and Solomon, P.C.', 'NY', '14513', '', 'Consent not provided', 'Web', '12/02/2015', 'Closed with non-monetary relief', 'Yes'),\n",
       " ('01/05/2016', 'Mortgage', 'Conventional fixed mortgage', 'Loan servicing, payments, escrow account', '', '', '', 'Nationwide Biweekly Administration, Inc', 'AK', '99502', '', 'Consent not provided', 'Web', '01/05/2016', 'Closed with explanation', 'No'),\n",
       " ('12/02/2015', 'Debt collection', 'Payday loan', 'Taking/threatening an illegal action', 'Threatened arrest/jail if do not pay', 'I received a call from XXXX XXXX XXXX XXXX, for an unpaid payday loan. He told me that I had been contacted several times for the unpaid debt, e-mail ... (297 characters truncated) ... . I might even be put in jail. He would not give me a copy of the so called \" affidavit \\'\\'. He told me that I would have to get a criminal attorney', ' because instead of suing me', ' the \"\" company \\'\\' is going to press charges for fraud and theft. He also yelled at me for \"\" crying \\'\\' /being emotional when he first called me. ... (5 characters truncated) ... alled me 3 times in the past month. He called from a New York number : XXXX. His name is XXXX. He also said that he would be investigating me further', ' and contacting my employers as well., Company believes it acted appropriately as authorized by contract or law,GVA Holdings', ' LLC\"', 'MI', '486XX', '', 'Consent provided', 'Web', '12/02/2015'),\n",
       " ('01/05/2016', 'Debt collection', 'Credit card', 'False statements or representation', 'Attempted to collect wrong amount', 'I received a letter by mail on XXXX XXXX 2015, stating that I owed Discover XXXX. I do n\\'t know why it went into collections, since I was making pay ... (1150 characters truncated) ... then I thougt oh they took out at least XXXX from my account. But when i checked they did not. So I went to the website \" XXXX \\'\\' to make a payment', ' but the website gave me a different amount XXXX I need help. I want to pay my debts but this law firm is making it very difficult as they are lying to me. I am a very honest person and respect the law.', None, None, None, None, None, None, None, None, '12/02/2015')]"
      ]
     },
     "execution_count": 6,
     "metadata": {},
     "output_type": "execute_result"
    }
   ],
   "source": [
    "%sql select * from complaints limit 10;"
   ]
  },
  {
   "cell_type": "code",
   "execution_count": null,
   "metadata": {},
   "outputs": [],
   "source": []
  },
  {
   "cell_type": "markdown",
   "metadata": {},
   "source": [
    "### Task 1: Query without an index\n",
    "\n",
    "First, let's start off by writing a query to find the **counts of the top 5 Product, State pairs** in the complaints database (return the product and state as well as the count).  Use the single-line syntax for simple timing so we can see how long the query takes:"
   ]
  },
  {
   "cell_type": "code",
   "execution_count": null,
   "metadata": {},
   "outputs": [],
   "source": [
    "%time %sql # YOUR QUERY HERE"
   ]
  },
  {
   "cell_type": "markdown",
   "metadata": {},
   "source": [
    "### Task 2: Single search key index\n",
    "\n",
    "Now create a _single-key_ index such that the above query is faster!  The syntax to create an index in SQL is:\n",
    "> DROP INDEX IF EXISTS index_name;\n",
    "> CREATE INDEX index_name ON table(attributes);"
   ]
  },
  {
   "cell_type": "code",
   "execution_count": null,
   "metadata": {},
   "outputs": [],
   "source": [
    "%%sql\n",
    "# CREATE YOUR INDEX HERE"
   ]
  },
  {
   "cell_type": "code",
   "execution_count": null,
   "metadata": {},
   "outputs": [],
   "source": [
    "%time %sql # TIME YOUR SAME QUERY HERE"
   ]
  },
  {
   "cell_type": "markdown",
   "metadata": {},
   "source": [
    "### Task 3 (a):\n",
    "\n",
    "Now, create a _covering_ index for the query and then see how long it takes to run!"
   ]
  },
  {
   "cell_type": "code",
   "execution_count": null,
   "metadata": {},
   "outputs": [],
   "source": [
    "%%sql\n",
    "# CREATE YOUR INDEX HERE"
   ]
  },
  {
   "cell_type": "code",
   "execution_count": null,
   "metadata": {},
   "outputs": [],
   "source": [
    "%time %sql # TIME YOUR SAME QUERY HERE"
   ]
  },
  {
   "cell_type": "markdown",
   "metadata": {},
   "source": [
    "### Task 3 (b):\n",
    "\n",
    "Use EXPLAIN to see if sqlite used/recognized your covering index.  EXPLAIN is an operator that tells SQL to explain its query plan... we'll look into this in more depth later.  For now, the syntax is:\n",
    "> EXPLAIN QUERY PLAN your_query_here;"
   ]
  },
  {
   "cell_type": "code",
   "execution_count": null,
   "metadata": {},
   "outputs": [],
   "source": [
    "%%sql\n",
    "# EXPLAIN YOUR QUERY HERE"
   ]
  }
 ],
 "metadata": {
  "kernelspec": {
   "display_name": "Python 3",
   "language": "python",
   "name": "python3"
  },
  "language_info": {
   "codemirror_mode": {
    "name": "ipython",
    "version": 3
   },
   "file_extension": ".py",
   "mimetype": "text/x-python",
   "name": "python",
   "nbconvert_exporter": "python",
   "pygments_lexer": "ipython3",
   "version": "3.8.2"
  }
 },
 "nbformat": 4,
 "nbformat_minor": 1
}
