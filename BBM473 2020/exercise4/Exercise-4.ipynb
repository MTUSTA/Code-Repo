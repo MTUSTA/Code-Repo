{
 "cells": [
  {
   "cell_type": "markdown",
   "metadata": {},
   "source": [
    "**BBM473 Database Laboratory (Spring 2019-2020)**\n",
    "\n",
    "\n",
    "Exercise 4: Design Theory\n",
    "------------\n",
    "\n"
   ]
  },
  {
   "cell_type": "markdown",
   "metadata": {},
   "source": [
    "## Activity 4.1: FDs & Closures\n",
    "------\n",
    "\n",
    "Recall that given a set of attributes  $\\{A_1, \\dots, A_n\\}$ and a set of FDs $\\Gamma$\n",
    "\n",
    "The closure, denoted $\\{A_1, \\dots, A_n\\}^+$, is defined to be the largest set of attributes B s.t. $$A_1,\\dots,A_n \\rightarrow B \\text{ using } \\Gamma.$$\n",
    "\n",
    "We've built some functions to compute the closure of a set of attributes and other such operations (_feel free to look at the code- it's pretty simple and clean, if we say so ourselves..._):"
   ]
  },
  {
   "cell_type": "code",
   "execution_count": null,
   "metadata": {},
   "outputs": [],
   "source": [
    "from closure import compute_closure"
   ]
  },
  {
   "cell_type": "markdown",
   "metadata": {},
   "source": [
    "### Task 1\n",
    "\n",
    "Consider a schema with attributes $X=\\{A,B,C,D,E,F,G,H\\}$.\n",
    "\n",
    "In this exercise, you are given a set of attributes $A\\subset X$ and a set of FDs $F$.  Find **one FD** to add to $F$ so that the closure $A^+=X$\n",
    "\n",
    "**Note: you can add FDs to the below set $F$ using e.g. `F.append((set([...]), set([...])))` and then check how you're doing using the `compute_closure` function from above!**\n",
    "\n",
    "(As we'll find out immediately after this activity, this equivalent to saying: _Find one FD to add such that $A$ becomes a superkey for $X$_)"
   ]
  },
  {
   "cell_type": "code",
   "execution_count": null,
   "metadata": {},
   "outputs": [],
   "source": [
    "X=set(['A','B','C','D','E','F','G','H'])"
   ]
  },
  {
   "cell_type": "code",
   "execution_count": null,
   "metadata": {},
   "outputs": [],
   "source": [
    "A = set(['A', 'B','F'])\n",
    "F = [(set(['A', 'C']), 'D'), # {A,C}-> {D}\n",
    "     (set(['D','H', 'G']), 'E'), # D,H,G -> E\n",
    "     (set(['A', 'B']), 'G'), # A,B -> G\n",
    "     (set(['F', 'B', 'G']), 'C')] # F,B,G -> C\n"
   ]
  },
  {
   "cell_type": "code",
   "execution_count": null,
   "metadata": {},
   "outputs": [],
   "source": []
  },
  {
   "cell_type": "code",
   "execution_count": null,
   "metadata": {},
   "outputs": [],
   "source": []
  },
  {
   "cell_type": "code",
   "execution_count": null,
   "metadata": {},
   "outputs": [],
   "source": [
    "compute_closure(A,F,verbose=True)"
   ]
  },
  {
   "cell_type": "code",
   "execution_count": null,
   "metadata": {},
   "outputs": [],
   "source": []
  },
  {
   "cell_type": "code",
   "execution_count": null,
   "metadata": {},
   "outputs": [],
   "source": [
    "is_superkey_for(A, X, F, verbose=True)"
   ]
  },
  {
   "cell_type": "markdown",
   "metadata": {},
   "source": [
    "## Activitity 4.2: Superkeys & Keys\n",
    "\n",
    "Next, we'll add some new functions now for finding superkeys and keys.  Recall:\n",
    "* A _superkey_ for a relation $R(B_1,\\dots,B_m)$ is a set of attributes $\\{A_1,\\dots,A_n\\}$ s.t.\n",
    "$$ \\{A_1,\\dots,A_n\\} \\rightarrow B_{j} \\text{ for all } j=1,\\dots m$$\n",
    "* A _key_ is a minimal (setwise) _superkey_\n",
    "\n",
    "The algorithm to determine if a set of attributes $A$ is a superkey for $X$ is actually very simple- we just see if the $A^+=X$:"
   ]
  },
  {
   "cell_type": "code",
   "execution_count": null,
   "metadata": {},
   "outputs": [],
   "source": [
    "def is_superkey_for(A, X, fds, verbose=False): \n",
    "    return X.issubset(compute_closure(A, fds, verbose=verbose))"
   ]
  },
  {
   "cell_type": "markdown",
   "metadata": {},
   "source": [
    "Then, to check if $A$ is a key for $X$, we just confirm that:\n",
    "* (a) it is a superkey\n",
    "* (b) there are no smaller superkeys (_Note that we only need to check for superkeys of one size smaller- think about why!_)"
   ]
  },
  {
   "cell_type": "code",
   "execution_count": null,
   "metadata": {},
   "outputs": [],
   "source": [
    "import itertools\n",
    "def is_key_for(A, X, fds, verbose=False):\n",
    "    subsets = set(itertools.combinations(A, len(A)-1))\n",
    "    return is_superkey_for(A, X, fds) and \\\n",
    "        all([not is_superkey_for(set(SA), X, fds) for SA in subsets])"
   ]
  },
  {
   "cell_type": "markdown",
   "metadata": {},
   "source": [
    "### Task 1\n",
    "\n",
    "Given the schema $R=\\{A,B,C\\}$, define a set of FDs such that there are two- _and only two_- keys, and check using the above functions!"
   ]
  },
  {
   "cell_type": "code",
   "execution_count": null,
   "metadata": {},
   "outputs": [],
   "source": [
    "R = set(['A','B','C'])"
   ]
  },
  {
   "cell_type": "code",
   "execution_count": null,
   "metadata": {},
   "outputs": [],
   "source": [
    "F="
   ]
  },
  {
   "cell_type": "code",
   "execution_count": null,
   "metadata": {},
   "outputs": [],
   "source": []
  },
  {
   "cell_type": "markdown",
   "metadata": {},
   "source": [
    "### Task 2\n",
    "\n",
    "Now, given the below relation $R$, and the above tools, define a set of FDs to result in the most keys possible.  How many keys can you make?  Largest number wins it all!\n",
    "\n",
    "_Bonus question: how many different sets of FDs will result in this maximum number of keys?_"
   ]
  },
  {
   "cell_type": "code",
   "execution_count": null,
   "metadata": {},
   "outputs": [],
   "source": [
    "R = set(['A','B','C','D','E'])"
   ]
  },
  {
   "cell_type": "code",
   "execution_count": null,
   "metadata": {},
   "outputs": [],
   "source": []
  },
  {
   "cell_type": "markdown",
   "metadata": {},
   "source": [
    "## Activity 4.3: BCNF Decompositions\n",
    "\n",
    "The goal for this activity will be to compute some BCNF decompositions, using the tools from last lecture\n",
    "\n",
    "First we'll load those tools, and some sample data:"
   ]
  },
  {
   "cell_type": "code",
   "execution_count": null,
   "metadata": {},
   "outputs": [],
   "source": [
    "from closure import compute_closure, display_side_by_side, print_setup"
   ]
  },
  {
   "cell_type": "code",
   "execution_count": null,
   "metadata": {},
   "outputs": [],
   "source": [
    "%load_ext sql\n",
    "%sql sqlite://"
   ]
  },
  {
   "cell_type": "code",
   "execution_count": null,
   "metadata": {},
   "outputs": [],
   "source": [
    "%%sql DROP TABLE IF EXISTS T;\n",
    "CREATE TABLE T(course VARCHAR, classroom INT, time INT);\n",
    "INSERT INTO T VALUES ('CS 364', 132, 900);\n",
    "INSERT INTO T VALUES ('CS 245', 140, 1000);\n",
    "INSERT INTO T VALUES ('EE 101', 210, 900);"
   ]
  },
  {
   "cell_type": "code",
   "execution_count": null,
   "metadata": {},
   "outputs": [],
   "source": []
  },
  {
   "cell_type": "markdown",
   "metadata": {},
   "source": [
    "### Task 1\n",
    "\n",
    "First, let's decompose `T` into BCNF!  Explicitly go through the steps of the BCNF algorithm using the `compute_closure` function, then decompose the following table (i.e. by creating new SQL tables) into BCNF:\n",
    "\n",
    "We've also made a function, `display_side_by_side`, for nicer display!"
   ]
  },
  {
   "cell_type": "code",
   "execution_count": null,
   "metadata": {},
   "outputs": [],
   "source": []
  },
  {
   "cell_type": "code",
   "execution_count": null,
   "metadata": {},
   "outputs": [],
   "source": [
    "%sql SELECT * FROM T;"
   ]
  },
  {
   "cell_type": "code",
   "execution_count": null,
   "metadata": {},
   "outputs": [],
   "source": []
  },
  {
   "cell_type": "markdown",
   "metadata": {},
   "source": [
    "We are given the following FDs:"
   ]
  },
  {
   "cell_type": "code",
   "execution_count": null,
   "metadata": {},
   "outputs": [],
   "source": [
    "A = set(['course', 'classroom', 'time'])\n",
    "F = [('course', 'classroom'), (set(['classroom', 'time']), 'course')]\n",
    "print_setup(A, F)"
   ]
  },
  {
   "cell_type": "code",
   "execution_count": null,
   "metadata": {},
   "outputs": [],
   "source": []
  },
  {
   "cell_type": "markdown",
   "metadata": {},
   "source": [
    "**Q:** What real-world constraints do these FDs express?\n",
    "\n",
    "Now, use the `compute_closure` function to help decompose this table to BCNF:"
   ]
  },
  {
   "cell_type": "code",
   "execution_count": null,
   "metadata": {},
   "outputs": [],
   "source": []
  },
  {
   "cell_type": "markdown",
   "metadata": {},
   "source": [
    "Compose into two tables, $T_1$ and $T_2$:"
   ]
  },
  {
   "cell_type": "code",
   "execution_count": null,
   "metadata": {},
   "outputs": [],
   "source": [
    "%%sql\n",
    "DROP TABLE IF EXISTS T1;\n",
    "CREATE TABLE T1 AS SELECT DISTINCT * FROM (\n",
    "        # TODO\n",
    ");"
   ]
  },
  {
   "cell_type": "code",
   "execution_count": null,
   "metadata": {},
   "outputs": [],
   "source": [
    "%%sql\n",
    "DROP TABLE IF EXISTS T2;\n",
    "CREATE TABLE T2 AS SELECT DISTINCT * FROM (\n",
    "        # TODO\n",
    ");"
   ]
  },
  {
   "cell_type": "markdown",
   "metadata": {},
   "source": [
    "Now run the below to display the decomposed tables side-by-side:"
   ]
  },
  {
   "cell_type": "code",
   "execution_count": null,
   "metadata": {},
   "outputs": [],
   "source": [
    "l = %sql SELECT * FROM T1;\n",
    "r = %sql SELECT * FROM T2;\n",
    "display_side_by_side(l,r)"
   ]
  },
  {
   "cell_type": "markdown",
   "metadata": {},
   "source": [
    "**Q:** Is this now in BCNF?"
   ]
  },
  {
   "cell_type": "markdown",
   "metadata": {},
   "source": [
    "### Task 2\n",
    "\n",
    "In the next section of lecture, we'll discuss a shortcoming of BCNF decompositions; let's see if we can get a glimpse of this now.\n",
    "\n",
    "See if you can insert rows into $T_1$ and/or $T_2$ _which respect the local FDs that still hold_, such that **when $T_1$ and $T_2$ are now recomposed, the original FDs do not hold!**"
   ]
  },
  {
   "cell_type": "code",
   "execution_count": null,
   "metadata": {},
   "outputs": [],
   "source": []
  },
  {
   "cell_type": "markdown",
   "metadata": {},
   "source": [
    "Now, reconstruct and print the re-composed table using a SQL query:"
   ]
  },
  {
   "cell_type": "code",
   "execution_count": null,
   "metadata": {},
   "outputs": [],
   "source": []
  },
  {
   "cell_type": "markdown",
   "metadata": {},
   "source": [
    "**Q:** What went wrong??  And how could we prevent this from occuring?"
   ]
  },
  {
   "cell_type": "code",
   "execution_count": null,
   "metadata": {},
   "outputs": [],
   "source": []
  },
  {
   "cell_type": "markdown",
   "metadata": {},
   "source": [
    "## Activity 4.4 : MVDs\n",
    "\n",
    "\n",
    "First, execute the following codes:"
   ]
  },
  {
   "cell_type": "code",
   "execution_count": null,
   "metadata": {
    "scrolled": true
   },
   "outputs": [],
   "source": [
    "%load_ext sql\n",
    "%sql sqlite://"
   ]
  },
  {
   "cell_type": "code",
   "execution_count": null,
   "metadata": {},
   "outputs": [],
   "source": [
    "# Utility functions...\n",
    "from IPython.core.display import display_html, HTML\n",
    "def to_html_table(res, style=None):\n",
    "    html = '<table' + (' style=\"' + style + '\"' if style else '') + '><tr><th>'\n",
    "    html += '</th><th>'.join(res.keys) + '</th></tr><tr><td>'\n",
    "    html += '</td></tr><tr><td>'.join(['</td><td>'.join([str(cell) for cell in row]) for row in list(res)])\n",
    "    return html + '</tr></table>'\n",
    "def display_side_by_side(l, r):\n",
    "    s = \"display: inline-block;\"\n",
    "    html = to_html_table(l, style=s) + ' ' + to_html_table(r, style=s)\n",
    "    display_html(HTML(data=html))"
   ]
  },
  {
   "cell_type": "markdown",
   "metadata": {},
   "source": [
    "## Formal definition\n",
    "\n",
    "Given a relation $R$ having attributes $A$, and two sets of attributes $X,Y\\subseteq A$, the **_multi-value dependency (MVD)_** $X\\twoheadrightarrow Y$ holds on $R$ if, for **any** tuples $t_1,t_2\\in R$ s.t. $t_1[X] = t_2[X]$, there exists a tuple $t_3\\in R$ s.t.:\n",
    "\n",
    "* $t_3[X] = t_1[X] = t_2[X]$\n",
    "* $t_3[Y] = t_1[Y]$\n",
    "* $t_3[A\\setminus Y] = t_2[A\\setminus Y]$\n",
    "\n",
    "where $A\\setminus B$ = all elements of $A$ not in $B$.\n",
    "\n",
    "So let's consider a toy example at this point:"
   ]
  },
  {
   "cell_type": "code",
   "execution_count": null,
   "metadata": {},
   "outputs": [],
   "source": [
    "%%sql\n",
    "DROP TABLE IF EXISTS R; CREATE TABLE R (A INT, B INT, C INT);\n",
    "INSERT INTO R VALUES (1, 1, 0);\n",
    "INSERT INTO R VALUES (1, 0, 1);\n",
    "SELECT * FROM R;"
   ]
  },
  {
   "cell_type": "markdown",
   "metadata": {},
   "source": [
    "Let's consider the first two rows as $t_1$ and $t_2$ respectively; what is the $t_3$ that the definition tells us we must add if we want the MVD $\\{A\\}\\twoheadrightarrow\\{B\\}$ to hold?  Let's add it in:"
   ]
  },
  {
   "cell_type": "code",
   "execution_count": null,
   "metadata": {},
   "outputs": [],
   "source": [
    "%sql INSERT INTO R VALUES (1,1,1); SELECT * FROM R;"
   ]
  },
  {
   "cell_type": "markdown",
   "metadata": {},
   "source": [
    "However what about if we consider the first two rows as $t_2$ and $t_1$ respectively?  What row would the definition tell us we'd have to add in?"
   ]
  },
  {
   "cell_type": "code",
   "execution_count": null,
   "metadata": {},
   "outputs": [],
   "source": [
    "%sql INSERT INTO R VALUES (1,0,0); SELECT * FROM R;"
   ]
  },
  {
   "cell_type": "markdown",
   "metadata": {},
   "source": [
    "Now, if we checked every other pair like this, we'd see that we are done- the MVD $\\{A\\}\\twoheadrightarrow\\{B\\}$ holds!\n",
    "\n",
    "## A second definition\n",
    "\n",
    "We see that this suggests another (equivalent) definition, which we'll phrase slightly less formally:\n",
    "\n",
    "**For an MVD $\\{A\\}\\twoheadrightarrow\\{B\\}$ to hold, for any pair of tuples that agree on attributes $A$, we also must find the corresponding _\"swapped\"_ pair: a pair of tuples that also have the same value of $A$ but have their $B$ and $(A\\cup B)^C$ attributes swapped.**\n",
    "\n",
    "(*where $(A\\cup B)^C$ just means the attributes not in $A$ or $B$*)\n",
    "\n",
    "This definition should make sense, and might even feel more intuitive, given the toy example above!"
   ]
  },
  {
   "cell_type": "markdown",
   "metadata": {},
   "source": [
    "### Addressing one point of confusion:\n",
    "\n",
    "Remember, an MVD holds over a **relation** (not a single tuple, not a single pair of tuples $t_1,t_2$...).  Again, look at the definition- an MVD, say $\\{X\\}\\twoheadrightarrow\\{Y\\}$, holds over a relation $R$ if **_for any possible_** pair of tuples $t_1,t_2$ in $R$ such that $t_1[A]=t_2[A]$, the condition in the definition holds...\n",
    "\n",
    "\n",
    "### Another clarification of terminology:\n",
    "So how can we ever _test_ if an MVD holds over a relation $R$, based just on one _instance_ of $R$?  Couldn't someone always add in more tuples and violate it?  Aren't we being a little sloppy when we say an MVD 'holds' on an _instance_ of a relation just based on checking the instance..?\n",
    "\n",
    "This is correct.  Recall that we have the same situation with FDs- we need to have _external information_ (such as a set of functional dependencies) to _prove_ that an MVD holds in general over a relation.  We **can** prove that it is violated or not violated by an instance of $R$, and that it thus could or could not potentially hold in general.\n",
    "\n",
    "So when we say an MVD (or an FD) _holds_ on an instance, based only on checking the instance, we implictly mean the above- that based on the instance we see, it _could_ hold in general."
   ]
  },
  {
   "cell_type": "markdown",
   "metadata": {
    "collapsed": true
   },
   "source": [
    "### A third definition...\n",
    "\n",
    "At this point (especially if you're still reading) you may suspect a connection to cross-products and joins.  Consider decomposing our toy example in its **original state (before we added in the two rows to make the MVD hold)**.  Let's decompose it into two tables, split by the attribute sets of the MVD (recall it was $\\{A\\}\\twoheadrightarrow\\{B\\}$):"
   ]
  },
  {
   "cell_type": "code",
   "execution_count": null,
   "metadata": {},
   "outputs": [],
   "source": [
    "%%sql\n",
    "DROP TABLE IF EXISTS R; CREATE TABLE R (A INT, B INT, C INT);\n",
    "INSERT INTO R VALUES (1, 1, 0);\n",
    "INSERT INTO R VALUES (1, 0, 1);\n",
    "SELECT * FROM R;"
   ]
  },
  {
   "cell_type": "code",
   "execution_count": null,
   "metadata": {},
   "outputs": [],
   "source": [
    "%sql DROP TABLE IF EXISTS R1; CREATE TABLE R1 AS SELECT A,B FROM R GROUP BY A,B;\n",
    "%sql DROP TABLE IF EXISTS R2; CREATE TABLE R2 AS SELECT A,C FROM R GROUP BY A,C;\n",
    "r1 = %sql SELECT * FROM R1;\n",
    "r2 = %sql SELECT * FROM R2;\n",
    "display_side_by_side(r1,r2)"
   ]
  },
  {
   "cell_type": "markdown",
   "metadata": {},
   "source": [
    "Now let's take the join to recompose:"
   ]
  },
  {
   "cell_type": "code",
   "execution_count": null,
   "metadata": {},
   "outputs": [],
   "source": [
    "%%sql\n",
    "SELECT r1.A AS A, r1.B AS B, r2.C AS C\n",
    "FROM R1 r1, R2 r2\n",
    "WHERE r1.A = r2.A;"
   ]
  },
  {
   "cell_type": "markdown",
   "metadata": {},
   "source": [
    "Woah!  The MVD that we decomposed along holds for the join of the decomposition!  We see that this is another definition for an MVD, in terms of the _'local joins'_: an MVD $\\{A\\}\\twoheadrightarrow\\{B\\}$ holds if whenever we take a block of rows with the same value for the $A$ attributes, decompose it into $R_1(A,B)$ and $R_2(A,(A\\cup B)^C)$, and then take the join of these tables, we end up with the same rows we had before!"
   ]
  },
  {
   "cell_type": "markdown",
   "metadata": {},
   "source": [
    "### Task 1\n",
    "\n",
    "We developed some appealingly simple python tools for this lecture & last, but let's switch back to SQL quickly- write a query which returns **no values _only if_** the MVD course to staff holds\n",
    "\n",
    "Then, comment out the insert statement(s) above so that the MVD does hold (do you remember how to comment out lines in SQL from earlier activities?  It's super useful!)\n",
    "\n",
    "First, execute the following codes:"
   ]
  },
  {
   "cell_type": "code",
   "execution_count": null,
   "metadata": {},
   "outputs": [],
   "source": [
    "%load_ext sql\n",
    "%sql sqlite://"
   ]
  },
  {
   "cell_type": "code",
   "execution_count": null,
   "metadata": {},
   "outputs": [],
   "source": [
    "%%sql\n",
    "DROP TABLE IF EXISTS courses;\n",
    "CREATE TABLE courses (course TEXT, staff TEXT, student TEXT);\n",
    "INSERT INTO courses VALUES ('CS949','Amy','Bob');\n",
    "INSERT INTO courses VALUES ('CS145','Chris','Deb');\n",
    "INSERT INTO courses VALUES ('CS145','Chris','Eli');\n",
    "INSERT INTO courses VALUES ('CS145','Firas','Deb');\n",
    "INSERT INTO courses VALUES ('CS145','Firas','Bob');\n",
    "INSERT INTO courses VALUES ('CS145','Firas','Eli');"
   ]
  },
  {
   "cell_type": "code",
   "execution_count": null,
   "metadata": {},
   "outputs": [],
   "source": []
  },
  {
   "cell_type": "code",
   "execution_count": null,
   "metadata": {},
   "outputs": [],
   "source": []
  }
 ],
 "metadata": {
  "kernelspec": {
   "display_name": "Python 3",
   "language": "python",
   "name": "python3"
  },
  "language_info": {
   "codemirror_mode": {
    "name": "ipython",
    "version": 3
   },
   "file_extension": ".py",
   "mimetype": "text/x-python",
   "name": "python",
   "nbconvert_exporter": "python",
   "pygments_lexer": "ipython3",
   "version": "3.7.1"
  }
 },
 "nbformat": 4,
 "nbformat_minor": 1
}
